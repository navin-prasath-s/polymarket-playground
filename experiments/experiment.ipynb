{
 "cells": [
  {
   "cell_type": "code",
   "id": "initial_id",
   "metadata": {
    "collapsed": true,
    "ExecuteTime": {
     "end_time": "2025-07-30T21:04:10.917746Z",
     "start_time": "2025-07-30T21:04:10.330711Z"
    }
   },
   "source": "from py_clob_client.client import ClobClient",
   "outputs": [],
   "execution_count": 2
  },
  {
   "metadata": {
    "ExecuteTime": {
     "end_time": "2025-07-30T21:04:56.568949Z",
     "start_time": "2025-07-30T21:04:56.564946Z"
    }
   },
   "cell_type": "code",
   "source": "client = ClobClient(host=\"https://clob.polymarket.com\")",
   "id": "c583b6fd7e4d74e0",
   "outputs": [],
   "execution_count": 3
  },
  {
   "metadata": {
    "ExecuteTime": {
     "end_time": "2025-07-30T21:31:07.023789Z",
     "start_time": "2025-07-30T21:31:06.278198Z"
    }
   },
   "cell_type": "code",
   "source": "market = client.get_market(\"0x77b4a1d4cd398a86c18b6bb9b5218917dc9f04b01a3cd4bae1c71ea345f15fa8\")",
   "id": "abd5d0ee4c95a586",
   "outputs": [],
   "execution_count": 8
  },
  {
   "metadata": {
    "ExecuteTime": {
     "end_time": "2025-07-30T21:31:07.596047Z",
     "start_time": "2025-07-30T21:31:07.591768Z"
    }
   },
   "cell_type": "code",
   "source": "market",
   "id": "cb1a353f58bd5a97",
   "outputs": [
    {
     "data": {
      "text/plain": [
       "{'enable_order_book': True,\n",
       " 'active': True,\n",
       " 'closed': False,\n",
       " 'archived': False,\n",
       " 'accepting_orders': True,\n",
       " 'accepting_order_timestamp': '2025-07-22T06:31:38Z',\n",
       " 'minimum_order_size': 5,\n",
       " 'minimum_tick_size': 0.01,\n",
       " 'condition_id': '0x77b4a1d4cd398a86c18b6bb9b5218917dc9f04b01a3cd4bae1c71ea345f15fa8',\n",
       " 'question_id': '0xe57c93a6e7c104d84591171942286a6a56a56bad6500792647a8f0d0371889c6',\n",
       " 'question': 'Will Polymarket US go live in 2025?',\n",
       " 'description': 'This market will resolve to \"Yes\" if a real-money trade is publicly placed on a regulated, Polymarket-operated Designated Contract Market (DCM) by December 31, 2025, at 11:59 PM ET. Otherwise, this market will resolve to \"No.\"\\n\\nThe resolution source will be a consensus of credible reporting.',\n",
       " 'market_slug': 'will-polymarket-us-go-live-in-2025',\n",
       " 'end_date_iso': '2025-12-31T00:00:00Z',\n",
       " 'game_start_time': None,\n",
       " 'seconds_delay': 0,\n",
       " 'fpmm': '0xDcdC407ef2300085D21631c79C635D84A1A19833',\n",
       " 'maker_base_fee': 0,\n",
       " 'taker_base_fee': 0,\n",
       " 'notifications_enabled': True,\n",
       " 'neg_risk': False,\n",
       " 'neg_risk_market_id': '',\n",
       " 'neg_risk_request_id': '',\n",
       " 'icon': 'https://polymarket-upload.s3.us-east-2.amazonaws.com/will-polymarket-us-go-live-in-2025-dPC-pdwRSMZg.jpg',\n",
       " 'image': 'https://polymarket-upload.s3.us-east-2.amazonaws.com/will-polymarket-us-go-live-in-2025-dPC-pdwRSMZg.jpg',\n",
       " 'rewards': {'rates': [{'asset_address': '0x2791Bca1f2de4661ED88A30C99A7a9449Aa84174',\n",
       "    'rewards_daily_rate': 20}],\n",
       "  'min_size': 200,\n",
       "  'max_spread': 3.5},\n",
       " 'is_50_50_outcome': False,\n",
       " 'tokens': [{'token_id': '11011989236331164054844679338128881575446679057930991995271488699513863012857',\n",
       "   'outcome': 'Yes',\n",
       "   'price': 0.635,\n",
       "   'winner': False},\n",
       "  {'token_id': '85192074595343152063514099581907578237984708585251625405204438498600285131861',\n",
       "   'outcome': 'No',\n",
       "   'price': 0.365,\n",
       "   'winner': False}],\n",
       " 'tags': ['Politics', 'prediction markets', 'Tech']}"
      ]
     },
     "execution_count": 9,
     "metadata": {},
     "output_type": "execute_result"
    }
   ],
   "execution_count": 9
  },
  {
   "metadata": {
    "ExecuteTime": {
     "end_time": "2025-07-30T22:07:01.218901Z",
     "start_time": "2025-07-30T22:07:01.216081Z"
    }
   },
   "cell_type": "code",
   "source": [
    "print(market[\"condition_id\"])\n",
    "print(market[\"question\"])\n",
    "print(market[\"description\"])\n",
    "print(market[\"tokens\"])"
   ],
   "id": "33bde6508b214b6a",
   "outputs": [
    {
     "name": "stdout",
     "output_type": "stream",
     "text": [
      "0x77b4a1d4cd398a86c18b6bb9b5218917dc9f04b01a3cd4bae1c71ea345f15fa8\n",
      "Will Polymarket US go live in 2025?\n",
      "This market will resolve to \"Yes\" if a real-money trade is publicly placed on a regulated, Polymarket-operated Designated Contract Market (DCM) by December 31, 2025, at 11:59 PM ET. Otherwise, this market will resolve to \"No.\"\n",
      "\n",
      "The resolution source will be a consensus of credible reporting.\n",
      "[{'token_id': '11011989236331164054844679338128881575446679057930991995271488699513863012857', 'outcome': 'Yes', 'price': 0.635, 'winner': False}, {'token_id': '85192074595343152063514099581907578237984708585251625405204438498600285131861', 'outcome': 'No', 'price': 0.365, 'winner': False}]\n"
     ]
    }
   ],
   "execution_count": 12
  },
  {
   "metadata": {},
   "cell_type": "code",
   "outputs": [],
   "execution_count": null,
   "source": "",
   "id": "11dad84354e6a4b6"
  }
 ],
 "metadata": {
  "kernelspec": {
   "display_name": "Python 3",
   "language": "python",
   "name": "python3"
  },
  "language_info": {
   "codemirror_mode": {
    "name": "ipython",
    "version": 2
   },
   "file_extension": ".py",
   "mimetype": "text/x-python",
   "name": "python",
   "nbconvert_exporter": "python",
   "pygments_lexer": "ipython2",
   "version": "2.7.6"
  }
 },
 "nbformat": 4,
 "nbformat_minor": 5
}
