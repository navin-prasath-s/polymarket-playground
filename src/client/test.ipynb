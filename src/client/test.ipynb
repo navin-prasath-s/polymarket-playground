{
 "cells": [
  {
   "cell_type": "code",
   "id": "initial_id",
   "metadata": {
    "collapsed": true,
    "ExecuteTime": {
     "end_time": "2025-08-09T02:52:22.191147Z",
     "start_time": "2025-08-09T02:52:22.127122Z"
    }
   },
   "source": "from client import Client",
   "outputs": [],
   "execution_count": 1
  },
  {
   "metadata": {
    "ExecuteTime": {
     "end_time": "2025-08-09T02:54:54.156863Z",
     "start_time": "2025-08-09T02:54:53.869623Z"
    }
   },
   "cell_type": "code",
   "source": [
    "client = Client(url=\"http://127.0.0.1:8000\")\n",
    "client_l1 = Client(url=\"http://127.0.0.1:8000\", l1_key=\"abc\", allow=(\"L1\", ))"
   ],
   "id": "3d9b1ce4cc094212",
   "outputs": [],
   "execution_count": 12
  },
  {
   "metadata": {
    "ExecuteTime": {
     "end_time": "2025-08-09T02:52:40.803240Z",
     "start_time": "2025-08-09T02:52:40.744487Z"
    }
   },
   "cell_type": "code",
   "source": "client.create_user(\"pc1\", balance=\"100.50\")",
   "id": "f52bda8a97840eab",
   "outputs": [
    {
     "data": {
      "text/plain": [
       "{'name': 'pc1', 'balance': '100.50'}"
      ]
     },
     "execution_count": 3,
     "metadata": {},
     "output_type": "execute_result"
    }
   ],
   "execution_count": 3
  },
  {
   "metadata": {
    "ExecuteTime": {
     "end_time": "2025-08-09T02:53:06.414721Z",
     "start_time": "2025-08-09T02:53:06.386206Z"
    }
   },
   "cell_type": "code",
   "source": "client.get_user(\"pc1\")",
   "id": "cb6e6d0e429b53e6",
   "outputs": [
    {
     "data": {
      "text/plain": [
       "{'name': 'pc1', 'balance': '100.50'}"
      ]
     },
     "execution_count": 5,
     "metadata": {},
     "output_type": "execute_result"
    }
   ],
   "execution_count": 5
  },
  {
   "metadata": {
    "ExecuteTime": {
     "end_time": "2025-08-09T02:54:56.591261Z",
     "start_time": "2025-08-09T02:54:56.558360Z"
    }
   },
   "cell_type": "code",
   "source": "client_l1.reset_user_balance(\"pc1\")",
   "id": "cdcef0cf34e2747a",
   "outputs": [
    {
     "data": {
      "text/plain": [
       "{'name': 'pc1', 'balance': '10000.00'}"
      ]
     },
     "execution_count": 13,
     "metadata": {},
     "output_type": "execute_result"
    }
   ],
   "execution_count": 13
  },
  {
   "metadata": {
    "ExecuteTime": {
     "end_time": "2025-08-09T02:55:50.755671Z",
     "start_time": "2025-08-09T02:55:50.730774Z"
    }
   },
   "cell_type": "code",
   "source": "client_l1.create_user(\"pc2\", balance=\"100.50\")",
   "id": "8ae838476bce870e",
   "outputs": [
    {
     "data": {
      "text/plain": [
       "{'name': 'pc2', 'balance': '100.50'}"
      ]
     },
     "execution_count": 14,
     "metadata": {},
     "output_type": "execute_result"
    }
   ],
   "execution_count": 14
  },
  {
   "metadata": {},
   "cell_type": "code",
   "outputs": [],
   "execution_count": null,
   "source": "",
   "id": "7a826634d6a90a49"
  }
 ],
 "metadata": {
  "kernelspec": {
   "display_name": "Python 3",
   "language": "python",
   "name": "python3"
  },
  "language_info": {
   "codemirror_mode": {
    "name": "ipython",
    "version": 2
   },
   "file_extension": ".py",
   "mimetype": "text/x-python",
   "name": "python",
   "nbconvert_exporter": "python",
   "pygments_lexer": "ipython2",
   "version": "2.7.6"
  }
 },
 "nbformat": 4,
 "nbformat_minor": 5
}
