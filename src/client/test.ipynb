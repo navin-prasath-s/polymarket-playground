{
 "cells": [
  {
   "metadata": {
    "ExecuteTime": {
     "end_time": "2025-08-09T06:00:19.525053Z",
     "start_time": "2025-08-09T06:00:19.480835Z"
    }
   },
   "cell_type": "code",
   "source": [
    "%load_ext autoreload\n",
    "%autoreload 2"
   ],
   "id": "e5e3f2496ccc02be",
   "outputs": [],
   "execution_count": 1
  },
  {
   "metadata": {
    "collapsed": true,
    "ExecuteTime": {
     "end_time": "2025-08-09T06:00:20.719082Z",
     "start_time": "2025-08-09T06:00:20.650225Z"
    }
   },
   "cell_type": "code",
   "source": [
    "from client import Client\n",
    "from webhook_listener import WebhookListener"
   ],
   "id": "initial_id",
   "outputs": [],
   "execution_count": 2
  },
  {
   "metadata": {
    "ExecuteTime": {
     "end_time": "2025-08-09T05:38:34.371588Z",
     "start_time": "2025-08-09T05:38:33.927597Z"
    }
   },
   "cell_type": "code",
   "source": [
    "client = Client(url=\"http://127.0.0.1:8000\")\n",
    "client_l1 = Client(url=\"http://127.0.0.1:8000\", l1_key=\"abc\")\n",
    "client_l2 = Client(url=\"http://127.0.0.1:8000\", l2_key=\"def\")"
   ],
   "id": "3d9b1ce4cc094212",
   "outputs": [],
   "execution_count": 15
  },
  {
   "metadata": {
    "ExecuteTime": {
     "end_time": "2025-08-09T05:38:43.743391Z",
     "start_time": "2025-08-09T05:38:43.704901Z"
    }
   },
   "cell_type": "code",
   "source": "client.create_user(\"pc3\", balance=\"1080.50\")",
   "id": "f52bda8a97840eab",
   "outputs": [
    {
     "data": {
      "text/plain": [
       "{'name': 'pc3', 'balance': '1080.50'}"
      ]
     },
     "execution_count": 18,
     "metadata": {},
     "output_type": "execute_result"
    }
   ],
   "execution_count": 18
  },
  {
   "metadata": {
    "ExecuteTime": {
     "end_time": "2025-08-09T05:38:43.981861Z",
     "start_time": "2025-08-09T05:38:43.962889Z"
    }
   },
   "cell_type": "code",
   "source": "client.create_user(\"pc1\", balance=\"10811.50\")",
   "id": "1ecef991c0c6c980",
   "outputs": [
    {
     "data": {
      "text/plain": [
       "{'name': 'pc1', 'balance': '10811.50'}"
      ]
     },
     "execution_count": 19,
     "metadata": {},
     "output_type": "execute_result"
    }
   ],
   "execution_count": 19
  },
  {
   "metadata": {
    "ExecuteTime": {
     "end_time": "2025-08-09T04:18:09.547522Z",
     "start_time": "2025-08-09T04:18:09.540624Z"
    }
   },
   "cell_type": "code",
   "source": "client.get_user(\"pc3\")",
   "id": "cb6e6d0e429b53e6",
   "outputs": [
    {
     "data": {
      "text/plain": [
       "{'name': 'pc3', 'balance': '1080.50'}"
      ]
     },
     "execution_count": 22,
     "metadata": {},
     "output_type": "execute_result"
    }
   ],
   "execution_count": 22
  },
  {
   "metadata": {
    "ExecuteTime": {
     "end_time": "2025-08-09T04:48:07.175800Z",
     "start_time": "2025-08-09T04:48:07.126029Z"
    }
   },
   "cell_type": "code",
   "source": "client_l1.reset_user_balance(\"pc3\", \"500.00\")",
   "id": "cdcef0cf34e2747a",
   "outputs": [
    {
     "data": {
      "text/plain": [
       "{'name': 'pc3', 'balance': '500.00'}"
      ]
     },
     "execution_count": 5,
     "metadata": {},
     "output_type": "execute_result"
    }
   ],
   "execution_count": 5
  },
  {
   "metadata": {
    "ExecuteTime": {
     "end_time": "2025-08-09T05:04:31.510340Z",
     "start_time": "2025-08-09T05:04:31.210190Z"
    }
   },
   "cell_type": "code",
   "source": [
    "client.buy(\n",
    "    user_name=\"pc3\",\n",
    "    market=\"0xcccb7e7613a087c132b69cbf3a02bece3fdcb824c1da54ae79acc8d4a562d902\",\n",
    "    token=\"8441400852834915183759801017793514978104486628517653995211751018945988243154\",\n",
    "    amount_usdc=\"400.00\"\n",
    ")"
   ],
   "id": "fd59b4f486c40d0e",
   "outputs": [
    {
     "data": {
      "text/plain": [
       "{'status': 'success',\n",
       " 'details': {'amount_usdc': '400.00',\n",
       "  'shares': '530.71',\n",
       "  'average_price': '0.7537072977709106668425317028',\n",
       "  'fills': 4}}"
      ]
     },
     "execution_count": 18,
     "metadata": {},
     "output_type": "execute_result"
    }
   ],
   "execution_count": 18
  },
  {
   "metadata": {
    "ExecuteTime": {
     "end_time": "2025-08-09T05:06:03.673970Z",
     "start_time": "2025-08-09T05:06:03.430434Z"
    }
   },
   "cell_type": "code",
   "source": [
    "client.sell(\n",
    "    user_name=\"pc3\",\n",
    "    market=\"0xcccb7e7613a087c132b69cbf3a02bece3fdcb824c1da54ae79acc8d4a562d902\",\n",
    "    token=\"8441400852834915183759801017793514978104486628517653995211751018945988243154\",\n",
    "    shares=\"1.00\"\n",
    ")"
   ],
   "id": "75e147df0ca0acd2",
   "outputs": [
    {
     "data": {
      "text/plain": [
       "{'status': 'success',\n",
       " 'details': {'amount_usdc': '0.71',\n",
       "  'shares': '1.00',\n",
       "  'average_price': '0.71',\n",
       "  'fills': 1}}"
      ]
     },
     "execution_count": 19,
     "metadata": {},
     "output_type": "execute_result"
    }
   ],
   "execution_count": 19
  },
  {
   "metadata": {
    "ExecuteTime": {
     "end_time": "2025-08-09T05:09:08.963713Z",
     "start_time": "2025-08-09T05:09:08.919658Z"
    }
   },
   "cell_type": "code",
   "source": "client.list_orders()",
   "id": "c1425347bcf418bb",
   "outputs": [
    {
     "data": {
      "text/plain": [
       "[{'user_name': 'pc3',\n",
       "  'market': '0xcccb7e7613a087c132b69cbf3a02bece3fdcb824c1da54ae79acc8d4a562d902',\n",
       "  'token': '8441400852834915183759801017793514978104486628517653995211751018945988243154',\n",
       "  'side': 'BUY',\n",
       "  'order_type': 'MARKET',\n",
       "  'status': 'FILLED',\n",
       "  'amount_usdc': '400.00',\n",
       "  'shares': '530.71',\n",
       "  'created_at': '2025-08-09T05:04:31.496427',\n",
       "  'updated_at': '2025-08-09T05:04:31.496427'},\n",
       " {'user_name': 'pc3',\n",
       "  'market': '0xcccb7e7613a087c132b69cbf3a02bece3fdcb824c1da54ae79acc8d4a562d902',\n",
       "  'token': '8441400852834915183759801017793514978104486628517653995211751018945988243154',\n",
       "  'side': 'SELL',\n",
       "  'order_type': 'MARKET',\n",
       "  'status': 'FILLED',\n",
       "  'amount_usdc': '0.71',\n",
       "  'shares': '1.00',\n",
       "  'created_at': '2025-08-09T05:06:03.658971',\n",
       "  'updated_at': '2025-08-09T05:06:03.658971'}]"
      ]
     },
     "execution_count": 4,
     "metadata": {},
     "output_type": "execute_result"
    }
   ],
   "execution_count": 4
  },
  {
   "metadata": {
    "ExecuteTime": {
     "end_time": "2025-08-09T05:09:36.094890Z",
     "start_time": "2025-08-09T05:09:36.078592Z"
    }
   },
   "cell_type": "code",
   "source": "client.list_orders_by_user(\"pc1\")",
   "id": "529f673706d01816",
   "outputs": [
    {
     "data": {
      "text/plain": [
       "[]"
      ]
     },
     "execution_count": 7,
     "metadata": {},
     "output_type": "execute_result"
    }
   ],
   "execution_count": 7
  },
  {
   "metadata": {
    "ExecuteTime": {
     "end_time": "2025-08-09T05:11:07.421377Z",
     "start_time": "2025-08-09T05:11:07.387172Z"
    }
   },
   "cell_type": "code",
   "source": "client.list_positions()",
   "id": "17b203fc42bd68e2",
   "outputs": [
    {
     "data": {
      "text/plain": [
       "[{'market': '0xcccb7e7613a087c132b69cbf3a02bece3fdcb824c1da54ae79acc8d4a562d902',\n",
       "  'token': '8441400852834915183759801017793514978104486628517653995211751018945988243154',\n",
       "  'shares': '529.71'}]"
      ]
     },
     "execution_count": 12,
     "metadata": {},
     "output_type": "execute_result"
    }
   ],
   "execution_count": 12
  },
  {
   "metadata": {
    "ExecuteTime": {
     "end_time": "2025-08-09T05:11:20.581440Z",
     "start_time": "2025-08-09T05:11:20.541721Z"
    }
   },
   "cell_type": "code",
   "source": "client.list_positions_by_user(\"pc1\")",
   "id": "89f7b417530e8809",
   "outputs": [
    {
     "data": {
      "text/plain": [
       "[]"
      ]
     },
     "execution_count": 13,
     "metadata": {},
     "output_type": "execute_result"
    }
   ],
   "execution_count": 13
  },
  {
   "metadata": {
    "ExecuteTime": {
     "end_time": "2025-08-09T05:11:25.137460Z",
     "start_time": "2025-08-09T05:11:25.121322Z"
    }
   },
   "cell_type": "code",
   "source": "client.list_positions_by_user(\"pc3\")",
   "id": "65d5f0623402ea8c",
   "outputs": [
    {
     "data": {
      "text/plain": [
       "[{'market': '0xcccb7e7613a087c132b69cbf3a02bece3fdcb824c1da54ae79acc8d4a562d902',\n",
       "  'token': '8441400852834915183759801017793514978104486628517653995211751018945988243154',\n",
       "  'shares': '529.71'}]"
      ]
     },
     "execution_count": 14,
     "metadata": {},
     "output_type": "execute_result"
    }
   ],
   "execution_count": 14
  },
  {
   "metadata": {
    "ExecuteTime": {
     "end_time": "2025-08-09T05:38:37.912870Z",
     "start_time": "2025-08-09T05:38:37.864779Z"
    }
   },
   "cell_type": "code",
   "source": "client_l2.delete_all_data()",
   "id": "481ae6863941a300",
   "outputs": [
    {
     "data": {
      "text/plain": [
       "{'success': True, 'message': 'All data cleared.'}"
      ]
     },
     "execution_count": 16,
     "metadata": {},
     "output_type": "execute_result"
    }
   ],
   "execution_count": 16
  },
  {
   "metadata": {
    "ExecuteTime": {
     "end_time": "2025-08-09T05:38:47.737867Z",
     "start_time": "2025-08-09T05:38:47.712467Z"
    }
   },
   "cell_type": "code",
   "source": [
    "client_l2.exec_sql(\n",
    "    \"SELECT * FROM users\",\n",
    "    limit=100,\n",
    ")\n"
   ],
   "id": "1a81aa54ede0f2a4",
   "outputs": [
    {
     "data": {
      "text/plain": [
       "{'columns': ['name', 'balance'],\n",
       " 'rows': [{'name': 'pc3', 'balance': 1080.5},\n",
       "  {'name': 'pc1', 'balance': 10811.5}],\n",
       " 'truncated': False}"
      ]
     },
     "execution_count": 20,
     "metadata": {},
     "output_type": "execute_result"
    }
   ],
   "execution_count": 20
  },
  {
   "metadata": {},
   "cell_type": "code",
   "outputs": [],
   "execution_count": null,
   "source": "",
   "id": "f6a5be392c28afec"
  },
  {
   "metadata": {
    "ExecuteTime": {
     "end_time": "2025-08-09T06:00:34.589037Z",
     "start_time": "2025-08-09T06:00:34.579954Z"
    }
   },
   "cell_type": "code",
   "source": "wl = WebhookListener(port=8001, path=\"/market-event\")",
   "id": "a060610069384652",
   "outputs": [],
   "execution_count": 4
  },
  {
   "metadata": {
    "ExecuteTime": {
     "end_time": "2025-08-09T06:00:52.195997Z",
     "start_time": "2025-08-09T06:00:52.183020Z"
    }
   },
   "cell_type": "code",
   "source": [
    "def on_market_added(data: dict):\n",
    "    # data: {\"markets\": [...]}\n",
    "    print(\"[market_added]\", len(data.get(\"markets\", [])))\n",
    "\n",
    "def on_market_resolved(data: dict):\n",
    "    # data: {\"markets\": [...]}\n",
    "    print(\"[market_resolved]\", data)\n",
    "\n",
    "# If they don't care about payout logs, they simply don't subscribe.\n",
    "def on_payout_logs(data: dict):\n",
    "    print(\"[payout_logs]\", len(data.get(\"payout_logs\", [])))\n",
    "\n",
    "wl.on(\"market_added\", on_market_added)\n",
    "wl.on(\"market_resolved\", on_market_resolved)\n",
    "wl.on(\"payout_logs\", on_payout_logs)"
   ],
   "id": "4a01341b51b81e27",
   "outputs": [],
   "execution_count": 5
  },
  {
   "metadata": {
    "ExecuteTime": {
     "end_time": "2025-08-09T06:01:07.417300Z",
     "start_time": "2025-08-09T06:00:57.632765Z"
    }
   },
   "cell_type": "code",
   "source": [
    "wl.start()\n",
    "input(\"Listening… press Enter to stop.\\n\")\n",
    "wl.stop()"
   ],
   "id": "ce9a9eb1b57e79d9",
   "outputs": [
    {
     "name": "stdout",
     "output_type": "stream",
     "text": [
      "Listening on http://0.0.0.0:8001/market-event\n"
     ]
    }
   ],
   "execution_count": 6
  },
  {
   "metadata": {},
   "cell_type": "code",
   "outputs": [],
   "execution_count": null,
   "source": "",
   "id": "ff4cc3c918c043d2"
  }
 ],
 "metadata": {
  "kernelspec": {
   "display_name": "Python 3",
   "language": "python",
   "name": "python3"
  },
  "language_info": {
   "codemirror_mode": {
    "name": "ipython",
    "version": 2
   },
   "file_extension": ".py",
   "mimetype": "text/x-python",
   "name": "python",
   "nbconvert_exporter": "python",
   "pygments_lexer": "ipython2",
   "version": "2.7.6"
  }
 },
 "nbformat": 4,
 "nbformat_minor": 5
}
