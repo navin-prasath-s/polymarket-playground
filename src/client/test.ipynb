{
 "cells": [
  {
   "cell_type": "code",
   "id": "initial_id",
   "metadata": {
    "collapsed": true,
    "ExecuteTime": {
     "end_time": "2025-08-09T04:47:42.839471Z",
     "start_time": "2025-08-09T04:47:42.778978Z"
    }
   },
   "source": "from client import Client",
   "outputs": [],
   "execution_count": 1
  },
  {
   "metadata": {
    "ExecuteTime": {
     "end_time": "2025-08-09T04:47:44.755694Z",
     "start_time": "2025-08-09T04:47:44.435822Z"
    }
   },
   "cell_type": "code",
   "source": [
    "client = Client(url=\"http://127.0.0.1:8000\")\n",
    "client_l1 = Client(url=\"http://127.0.0.1:8000\", l1_key=\"abc\")"
   ],
   "id": "3d9b1ce4cc094212",
   "outputs": [],
   "execution_count": 2
  },
  {
   "metadata": {
    "ExecuteTime": {
     "end_time": "2025-08-09T04:18:05.389615Z",
     "start_time": "2025-08-09T04:18:05.375608Z"
    }
   },
   "cell_type": "code",
   "source": "client.create_user(\"pc3\", balance=\"1080.50\")",
   "id": "f52bda8a97840eab",
   "outputs": [
    {
     "data": {
      "text/plain": [
       "{'name': 'pc3', 'balance': '1080.50'}"
      ]
     },
     "execution_count": 21,
     "metadata": {},
     "output_type": "execute_result"
    }
   ],
   "execution_count": 21
  },
  {
   "metadata": {
    "ExecuteTime": {
     "end_time": "2025-08-09T04:18:09.547522Z",
     "start_time": "2025-08-09T04:18:09.540624Z"
    }
   },
   "cell_type": "code",
   "source": "client.get_user(\"pc3\")",
   "id": "cb6e6d0e429b53e6",
   "outputs": [
    {
     "data": {
      "text/plain": [
       "{'name': 'pc3', 'balance': '1080.50'}"
      ]
     },
     "execution_count": 22,
     "metadata": {},
     "output_type": "execute_result"
    }
   ],
   "execution_count": 22
  },
  {
   "metadata": {
    "ExecuteTime": {
     "end_time": "2025-08-09T04:48:07.175800Z",
     "start_time": "2025-08-09T04:48:07.126029Z"
    }
   },
   "cell_type": "code",
   "source": "client_l1.reset_user_balance(\"pc3\", \"500.00\")",
   "id": "cdcef0cf34e2747a",
   "outputs": [
    {
     "data": {
      "text/plain": [
       "{'name': 'pc3', 'balance': '500.00'}"
      ]
     },
     "execution_count": 5,
     "metadata": {},
     "output_type": "execute_result"
    }
   ],
   "execution_count": 5
  },
  {
   "metadata": {},
   "cell_type": "code",
   "outputs": [],
   "execution_count": null,
   "source": "",
   "id": "fd59b4f486c40d0e"
  }
 ],
 "metadata": {
  "kernelspec": {
   "display_name": "Python 3",
   "language": "python",
   "name": "python3"
  },
  "language_info": {
   "codemirror_mode": {
    "name": "ipython",
    "version": 2
   },
   "file_extension": ".py",
   "mimetype": "text/x-python",
   "name": "python",
   "nbconvert_exporter": "python",
   "pygments_lexer": "ipython2",
   "version": "2.7.6"
  }
 },
 "nbformat": 4,
 "nbformat_minor": 5
}
