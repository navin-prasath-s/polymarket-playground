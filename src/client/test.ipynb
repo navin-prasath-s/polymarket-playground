{
 "cells": [
  {
   "metadata": {
    "ExecuteTime": {
     "end_time": "2025-08-09T05:14:09.891676Z",
     "start_time": "2025-08-09T05:14:09.846536Z"
    }
   },
   "cell_type": "code",
   "source": [
    "%load_ext autoreload\n",
    "%autoreload 2"
   ],
   "id": "e5e3f2496ccc02be",
   "outputs": [],
   "execution_count": 1
  },
  {
   "metadata": {
    "collapsed": true,
    "ExecuteTime": {
     "end_time": "2025-08-09T05:14:11.133728Z",
     "start_time": "2025-08-09T05:14:11.060045Z"
    }
   },
   "cell_type": "code",
   "source": "from client import Client",
   "id": "initial_id",
   "outputs": [],
   "execution_count": 2
  },
  {
   "metadata": {
    "ExecuteTime": {
     "end_time": "2025-08-09T05:14:28.313187Z",
     "start_time": "2025-08-09T05:14:27.797508Z"
    }
   },
   "cell_type": "code",
   "source": [
    "client = Client(url=\"http://127.0.0.1:8000\")\n",
    "client_l1 = Client(url=\"http://127.0.0.1:8000\", l1_key=\"abc\")\n",
    "client_l2 = Client(url=\"http://127.0.0.1:8000\", l2_key=\"def\")"
   ],
   "id": "3d9b1ce4cc094212",
   "outputs": [],
   "execution_count": 5
  },
  {
   "metadata": {
    "ExecuteTime": {
     "end_time": "2025-08-09T04:18:05.389615Z",
     "start_time": "2025-08-09T04:18:05.375608Z"
    }
   },
   "cell_type": "code",
   "source": "client.create_user(\"pc3\", balance=\"1080.50\")",
   "id": "f52bda8a97840eab",
   "outputs": [
    {
     "data": {
      "text/plain": [
       "{'name': 'pc3', 'balance': '1080.50'}"
      ]
     },
     "execution_count": 21,
     "metadata": {},
     "output_type": "execute_result"
    }
   ],
   "execution_count": 21
  },
  {
   "metadata": {
    "ExecuteTime": {
     "end_time": "2025-08-09T04:18:09.547522Z",
     "start_time": "2025-08-09T04:18:09.540624Z"
    }
   },
   "cell_type": "code",
   "source": "client.get_user(\"pc3\")",
   "id": "cb6e6d0e429b53e6",
   "outputs": [
    {
     "data": {
      "text/plain": [
       "{'name': 'pc3', 'balance': '1080.50'}"
      ]
     },
     "execution_count": 22,
     "metadata": {},
     "output_type": "execute_result"
    }
   ],
   "execution_count": 22
  },
  {
   "metadata": {
    "ExecuteTime": {
     "end_time": "2025-08-09T04:48:07.175800Z",
     "start_time": "2025-08-09T04:48:07.126029Z"
    }
   },
   "cell_type": "code",
   "source": "client_l1.reset_user_balance(\"pc3\", \"500.00\")",
   "id": "cdcef0cf34e2747a",
   "outputs": [
    {
     "data": {
      "text/plain": [
       "{'name': 'pc3', 'balance': '500.00'}"
      ]
     },
     "execution_count": 5,
     "metadata": {},
     "output_type": "execute_result"
    }
   ],
   "execution_count": 5
  },
  {
   "metadata": {
    "ExecuteTime": {
     "end_time": "2025-08-09T05:04:31.510340Z",
     "start_time": "2025-08-09T05:04:31.210190Z"
    }
   },
   "cell_type": "code",
   "source": [
    "client.buy(\n",
    "    user_name=\"pc3\",\n",
    "    market=\"0xcccb7e7613a087c132b69cbf3a02bece3fdcb824c1da54ae79acc8d4a562d902\",\n",
    "    token=\"8441400852834915183759801017793514978104486628517653995211751018945988243154\",\n",
    "    amount_usdc=\"400.00\"\n",
    ")"
   ],
   "id": "fd59b4f486c40d0e",
   "outputs": [
    {
     "data": {
      "text/plain": [
       "{'status': 'success',\n",
       " 'details': {'amount_usdc': '400.00',\n",
       "  'shares': '530.71',\n",
       "  'average_price': '0.7537072977709106668425317028',\n",
       "  'fills': 4}}"
      ]
     },
     "execution_count": 18,
     "metadata": {},
     "output_type": "execute_result"
    }
   ],
   "execution_count": 18
  },
  {
   "metadata": {
    "ExecuteTime": {
     "end_time": "2025-08-09T05:06:03.673970Z",
     "start_time": "2025-08-09T05:06:03.430434Z"
    }
   },
   "cell_type": "code",
   "source": [
    "client.sell(\n",
    "    user_name=\"pc3\",\n",
    "    market=\"0xcccb7e7613a087c132b69cbf3a02bece3fdcb824c1da54ae79acc8d4a562d902\",\n",
    "    token=\"8441400852834915183759801017793514978104486628517653995211751018945988243154\",\n",
    "    shares=\"1.00\"\n",
    ")"
   ],
   "id": "75e147df0ca0acd2",
   "outputs": [
    {
     "data": {
      "text/plain": [
       "{'status': 'success',\n",
       " 'details': {'amount_usdc': '0.71',\n",
       "  'shares': '1.00',\n",
       "  'average_price': '0.71',\n",
       "  'fills': 1}}"
      ]
     },
     "execution_count": 19,
     "metadata": {},
     "output_type": "execute_result"
    }
   ],
   "execution_count": 19
  },
  {
   "metadata": {
    "ExecuteTime": {
     "end_time": "2025-08-09T05:09:08.963713Z",
     "start_time": "2025-08-09T05:09:08.919658Z"
    }
   },
   "cell_type": "code",
   "source": "client.list_orders()",
   "id": "c1425347bcf418bb",
   "outputs": [
    {
     "data": {
      "text/plain": [
       "[{'user_name': 'pc3',\n",
       "  'market': '0xcccb7e7613a087c132b69cbf3a02bece3fdcb824c1da54ae79acc8d4a562d902',\n",
       "  'token': '8441400852834915183759801017793514978104486628517653995211751018945988243154',\n",
       "  'side': 'BUY',\n",
       "  'order_type': 'MARKET',\n",
       "  'status': 'FILLED',\n",
       "  'amount_usdc': '400.00',\n",
       "  'shares': '530.71',\n",
       "  'created_at': '2025-08-09T05:04:31.496427',\n",
       "  'updated_at': '2025-08-09T05:04:31.496427'},\n",
       " {'user_name': 'pc3',\n",
       "  'market': '0xcccb7e7613a087c132b69cbf3a02bece3fdcb824c1da54ae79acc8d4a562d902',\n",
       "  'token': '8441400852834915183759801017793514978104486628517653995211751018945988243154',\n",
       "  'side': 'SELL',\n",
       "  'order_type': 'MARKET',\n",
       "  'status': 'FILLED',\n",
       "  'amount_usdc': '0.71',\n",
       "  'shares': '1.00',\n",
       "  'created_at': '2025-08-09T05:06:03.658971',\n",
       "  'updated_at': '2025-08-09T05:06:03.658971'}]"
      ]
     },
     "execution_count": 4,
     "metadata": {},
     "output_type": "execute_result"
    }
   ],
   "execution_count": 4
  },
  {
   "metadata": {
    "ExecuteTime": {
     "end_time": "2025-08-09T05:09:36.094890Z",
     "start_time": "2025-08-09T05:09:36.078592Z"
    }
   },
   "cell_type": "code",
   "source": "client.list_orders_by_user(\"pc1\")",
   "id": "529f673706d01816",
   "outputs": [
    {
     "data": {
      "text/plain": [
       "[]"
      ]
     },
     "execution_count": 7,
     "metadata": {},
     "output_type": "execute_result"
    }
   ],
   "execution_count": 7
  },
  {
   "metadata": {
    "ExecuteTime": {
     "end_time": "2025-08-09T05:11:07.421377Z",
     "start_time": "2025-08-09T05:11:07.387172Z"
    }
   },
   "cell_type": "code",
   "source": "client.list_positions()",
   "id": "17b203fc42bd68e2",
   "outputs": [
    {
     "data": {
      "text/plain": [
       "[{'market': '0xcccb7e7613a087c132b69cbf3a02bece3fdcb824c1da54ae79acc8d4a562d902',\n",
       "  'token': '8441400852834915183759801017793514978104486628517653995211751018945988243154',\n",
       "  'shares': '529.71'}]"
      ]
     },
     "execution_count": 12,
     "metadata": {},
     "output_type": "execute_result"
    }
   ],
   "execution_count": 12
  },
  {
   "metadata": {
    "ExecuteTime": {
     "end_time": "2025-08-09T05:11:20.581440Z",
     "start_time": "2025-08-09T05:11:20.541721Z"
    }
   },
   "cell_type": "code",
   "source": "client.list_positions_by_user(\"pc1\")",
   "id": "89f7b417530e8809",
   "outputs": [
    {
     "data": {
      "text/plain": [
       "[]"
      ]
     },
     "execution_count": 13,
     "metadata": {},
     "output_type": "execute_result"
    }
   ],
   "execution_count": 13
  },
  {
   "metadata": {
    "ExecuteTime": {
     "end_time": "2025-08-09T05:11:25.137460Z",
     "start_time": "2025-08-09T05:11:25.121322Z"
    }
   },
   "cell_type": "code",
   "source": "client.list_positions_by_user(\"pc3\")",
   "id": "65d5f0623402ea8c",
   "outputs": [
    {
     "data": {
      "text/plain": [
       "[{'market': '0xcccb7e7613a087c132b69cbf3a02bece3fdcb824c1da54ae79acc8d4a562d902',\n",
       "  'token': '8441400852834915183759801017793514978104486628517653995211751018945988243154',\n",
       "  'shares': '529.71'}]"
      ]
     },
     "execution_count": 14,
     "metadata": {},
     "output_type": "execute_result"
    }
   ],
   "execution_count": 14
  },
  {
   "metadata": {
    "ExecuteTime": {
     "end_time": "2025-08-09T05:14:43.383760Z",
     "start_time": "2025-08-09T05:14:43.345890Z"
    }
   },
   "cell_type": "code",
   "source": "client_l2.delete_all_data()",
   "id": "481ae6863941a300",
   "outputs": [
    {
     "data": {
      "text/plain": [
       "{'success': True, 'message': 'All data cleared.'}"
      ]
     },
     "execution_count": 7,
     "metadata": {},
     "output_type": "execute_result"
    }
   ],
   "execution_count": 7
  },
  {
   "metadata": {},
   "cell_type": "code",
   "outputs": [],
   "execution_count": null,
   "source": "",
   "id": "1a81aa54ede0f2a4"
  }
 ],
 "metadata": {
  "kernelspec": {
   "display_name": "Python 3",
   "language": "python",
   "name": "python3"
  },
  "language_info": {
   "codemirror_mode": {
    "name": "ipython",
    "version": 2
   },
   "file_extension": ".py",
   "mimetype": "text/x-python",
   "name": "python",
   "nbconvert_exporter": "python",
   "pygments_lexer": "ipython2",
   "version": "2.7.6"
  }
 },
 "nbformat": 4,
 "nbformat_minor": 5
}
